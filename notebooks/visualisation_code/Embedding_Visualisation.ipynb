{
 "cells": [
  {
   "cell_type": "markdown",
   "id": "5946808a",
   "metadata": {},
   "source": [
    "### Import librairies"
   ]
  },
  {
   "cell_type": "code",
   "execution_count": null,
   "id": "cefb8c25",
   "metadata": {},
   "outputs": [],
   "source": [
    "import numpy as np\n",
    "import matplotlib.pyplot as plt\n",
    "from sklearn.manifold import TSNE\n",
    "from sklearn.metrics.pairwise import cosine_similarity\n",
    "from mpl_toolkits.mplot3d import Axes3D"
   ]
  },
  {
   "cell_type": "markdown",
   "id": "9ad3a18d",
   "metadata": {},
   "source": [
    "### Plot"
   ]
  },
  {
   "cell_type": "code",
   "execution_count": null,
   "id": "1b608721-6d4d-4667-99cc-9fd71331e0d9",
   "metadata": {},
   "outputs": [],
   "source": [
    "\n",
    "# Step 1: Loading  Embeddings and Vocabulary\n",
    "embeddings = np.load('right_path')  \n",
    "with open('right_path', 'r') as f:\n",
    "    words = f.read().splitlines()\n",
    "    \n",
    "# Step 2: Selecting a Target Word\n",
    "target_word = 'yellow'  \n",
    "\n",
    "# Step 3: Cosine Similarity\n",
    "# Mapping words to their embeddings in a new dictionary\n",
    "word_to_embedding = {word: embedding for word, embedding in zip(words, embeddings)}\n",
    "# Getting the embedding of the target word\n",
    "target_embedding = word_to_embedding[target_word]\n",
    "# Cosine similarity between the target word and all other words\n",
    "similarities = cosine_similarity([target_embedding], embeddings).flatten()\n",
    "\n",
    "# Step 4: Filtering Most Similar Words\n",
    "# Getting the indices of the most similar words\n",
    "most_similar_indices = np.argsort(similarities)[::-1][1:11]  # Top 10 most similar words, excluding the target word itself\n",
    "most_similar_words = [words[i] for i in most_similar_indices]\n",
    "most_similar_embeddings = embeddings[most_similar_indices]\n",
    "\n",
    "# Step 5: Applying t-SNE for 3D Visualization\n",
    "tsne = TSNE(n_components=3, perplexity=5, random_state=42)  \n",
    "embeddings_3d = tsne.fit_transform(most_similar_embeddings)\n",
    "\n",
    "# Step 6: Plotting the Results in 3D\n",
    "fig = plt.figure(figsize=(10, 8))\n",
    "ax = fig.add_subplot(111, projection='3d')\n",
    "sc = ax.scatter(embeddings_3d[:, 0], embeddings_3d[:, 1], embeddings_3d[:, 2], s=50)\n",
    "for i, word in enumerate(most_similar_words):\n",
    "    ax.text(embeddings_3d[i, 0], embeddings_3d[i, 1], embeddings_3d[i, 2], word, fontsize=10)\n",
    "    \n",
    "\n",
    "ax.set_title(f'Most Similar Words to \"{target_word}\" in 3D Space')\n",
    "ax.set_xlabel('Component 1')\n",
    "ax.set_ylabel('Component 2')\n",
    "ax.set_zlabel('Component 3')\n",
    "\n",
    "plt.show()"
   ]
  }
 ],
 "metadata": {
  "kernelspec": {
   "display_name": "Python 3 (ipykernel)",
   "language": "python",
   "name": "python3"
  },
  "language_info": {
   "codemirror_mode": {
    "name": "ipython",
    "version": 3
   },
   "file_extension": ".py",
   "mimetype": "text/x-python",
   "name": "python",
   "nbconvert_exporter": "python",
   "pygments_lexer": "ipython3",
   "version": "3.11.7"
  }
 },
 "nbformat": 4,
 "nbformat_minor": 5
}
